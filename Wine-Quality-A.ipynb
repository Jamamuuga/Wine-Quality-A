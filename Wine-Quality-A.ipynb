{
 "cells": [
  {
   "cell_type": "code",
   "execution_count": null,
   "metadata": {},
   "outputs": [],
   "source": [
    "import pandas as pd\n",
    "\n",
    "wineData = pd.read_csv(\"./winequality-red.csv\", sep=';')\n",
    "print(wineData)\n"
   ]
  }
 ],
 "metadata": {
  "interpreter": {
   "hash": "32957bfa618a669e75d48bdc471cb7d25f551be2ea41a51f3a46b6452f8dc003"
  },
  "kernelspec": {
   "display_name": "Python 3.9.11 ('base')",
   "language": "python",
   "name": "python3"
  },
  "language_info": {
   "name": "python",
   "version": "3.9.11"
  },
  "orig_nbformat": 4
 },
 "nbformat": 4,
 "nbformat_minor": 2
}
