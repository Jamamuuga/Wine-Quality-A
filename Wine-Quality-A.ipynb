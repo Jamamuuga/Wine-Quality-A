{
 "cells": [
  {
   "cell_type": "code",
   "execution_count": null,
   "metadata": {},
   "outputs": [],
   "source": [
    "# from bokeh.plotting import figure, show\n",
    "# from bokeh.io import output_notebook\n",
    "import pandas as pd\n",
    "import numpy as np\n",
    "import hvplot.pandas\n",
    "# \tRed Wine Quality (Regression or Classification)\n",
    "# \t\tAlso do outlier detection.\n",
    "# \t\tTest feature selection methods?\n",
    "# \t\tMaybe not all input variables relevant…\n",
    "\n",
    "wineData = pd.read_csv(\"./winequality-red.csv\", sep=';')\n",
    "\n",
    "# pd.options.plotting.backend = 'holoviews'\n",
    "# print(wineData.describe())\n",
    "# winePlot = figure(width=800, height=400)\n",
    "# winePlot.circle(wineData.pH, wineData.quality, size=20, color=\"navy\", alpha=0.2)\n",
    "\n",
    "wineData.hvplot.scatter()\n",
    "# show(winePlot)"
   ]
  }
 ],
 "metadata": {
  "interpreter": {
   "hash": "32957bfa618a669e75d48bdc471cb7d25f551be2ea41a51f3a46b6452f8dc003"
  },
  "kernelspec": {
   "display_name": "Python 3.9.11 ('base')",
   "language": "python",
   "name": "python3"
  },
  "language_info": {
   "codemirror_mode": {
    "name": "ipython",
    "version": 3
   },
   "file_extension": ".py",
   "mimetype": "text/x-python",
   "name": "python",
   "nbconvert_exporter": "python",
   "pygments_lexer": "ipython3",
   "version": "3.9.11"
  },
  "orig_nbformat": 4
 },
 "nbformat": 4,
 "nbformat_minor": 2
}
